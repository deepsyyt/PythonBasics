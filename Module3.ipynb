{
  "cells": [
    {
      "cell_type": "markdown",
      "metadata": {
        "id": "view-in-github",
        "colab_type": "text"
      },
      "source": [
        "<a href=\"https://colab.research.google.com/github/deepsyyt/PythonBasics/blob/master/Module3.ipynb\" target=\"_parent\"><img src=\"https://colab.research.google.com/assets/colab-badge.svg\" alt=\"Open In Colab\"/></a>"
      ]
    },
    {
      "cell_type": "markdown",
      "metadata": {
        "id": "JbQ4e250f4l0"
      },
      "source": [
        "# Python Basics"
      ]
    },
    {
      "cell_type": "markdown",
      "metadata": {
        "id": "pakkWP-Sf4l2"
      },
      "source": [
        "These assignments aim to get you acquainted with Python, which is an important requirement for all the research done at Solarillion Foundation. Apart from teaching you Python, these assignments also aim to make you a better programmer and cultivate better coding practices.\n",
        "\n",
        "Visit these links for more details: <br>\n",
        "PEP8 Practices: https://www.python.org/dev/peps/pep-0008/ <br>\n",
        "Check PEP8: http://pep8online.com <br>\n",
        "Python Reference: https://www.py4e.com/lessons <br>\n",
        "\n",
        "Do use Google efficiently, and refer to StackOverflow for clarifying any programming doubts. If you're still stuck, feel free to ask a TA to help you.\n",
        "\n",
        "Each task in the assignment comprises of at least two cells. There are function definitions wherein you will name the function(s), and write code to solve the problem at hand. You will call the function(s) in the last cell of each task, and check your output.\n",
        "\n",
        "We encourage you to play around and learn as much as possible, and be as creative as you can get. More than anything, have fun doing these assignments. Enjoy!"
      ]
    },
    {
      "cell_type": "markdown",
      "metadata": {
        "id": "QedBzVm3f4l3"
      },
      "source": [
        "# Important\n",
        "* **Only the imports and functions must be present when you upload this notebook to GitHub for verification.**\n",
        "* **Do not upload it until you want to get it verified. Do not change function names or add extra cells or code, or remove anything.**\n",
        "* **For your rough work and four showing your code to TAs, use a different notebook with the name Module2Playground.ipynb and copy only the final functions to this notebook for verification.**"
      ]
    },
    {
      "cell_type": "markdown",
      "metadata": {
        "id": "yRPDguWgf4l3"
      },
      "source": [
        "# Module 3\n",
        "Scope: Algorithmic Thinking, Programming"
      ]
    },
    {
      "cell_type": "markdown",
      "metadata": {
        "id": "_Z9WA7Upf4l3"
      },
      "source": [
        "## Imports - Always Execute First!\n",
        "Import any modules and turn on any magic here:"
      ]
    },
    {
      "cell_type": "code",
      "source": [
        "!pip install pycodestyle_magic\n",
        "!pip install pycodestyle\n",
        "!pip install flake8"
      ],
      "metadata": {
        "colab": {
          "base_uri": "https://localhost:8080/"
        },
        "id": "C2FV1p3RgEKk",
        "outputId": "71ac6ba5-86b1-4ad2-b832-9f2919b000ff"
      },
      "execution_count": null,
      "outputs": [
        {
          "output_type": "stream",
          "name": "stdout",
          "text": [
            "Requirement already satisfied: pycodestyle_magic in /usr/local/lib/python3.10/dist-packages (0.5)\n",
            "Collecting pycodestyle\n",
            "  Using cached pycodestyle-2.11.1-py2.py3-none-any.whl (31 kB)\n",
            "Installing collected packages: pycodestyle\n",
            "Successfully installed pycodestyle-2.11.1\n",
            "Collecting flake8\n",
            "  Using cached flake8-7.0.0-py2.py3-none-any.whl (57 kB)\n",
            "Collecting mccabe<0.8.0,>=0.7.0 (from flake8)\n",
            "  Using cached mccabe-0.7.0-py2.py3-none-any.whl (7.3 kB)\n",
            "Requirement already satisfied: pycodestyle<2.12.0,>=2.11.0 in /usr/local/lib/python3.10/dist-packages (from flake8) (2.11.1)\n",
            "Collecting pyflakes<3.3.0,>=3.2.0 (from flake8)\n",
            "  Using cached pyflakes-3.2.0-py2.py3-none-any.whl (62 kB)\n",
            "Installing collected packages: pyflakes, mccabe, flake8\n",
            "Successfully installed flake8-7.0.0 mccabe-0.7.0 pyflakes-3.2.0\n"
          ]
        }
      ]
    },
    {
      "cell_type": "code",
      "source": [
        "import random\n",
        "import matplotlib.pyplot as plt"
      ],
      "metadata": {
        "id": "MhFBM9zVhyej"
      },
      "execution_count": null,
      "outputs": []
    },
    {
      "cell_type": "code",
      "execution_count": null,
      "metadata": {
        "id": "uSoGDvqYf4l4"
      },
      "outputs": [],
      "source": [
        "from IPython import get_ipython\n",
        "ipy = get_ipython()\n",
        "if ipy is not None:\n",
        "    ipy.run_line_magic(\"load_ext\", \"pycodestyle_magic\")\n",
        "    ipy.run_line_magic(\"pycodestyle_on\", \"\")"
      ]
    },
    {
      "cell_type": "markdown",
      "metadata": {
        "id": "s2COmY1ff4l5"
      },
      "source": [
        "## Burger Mania"
      ]
    },
    {
      "cell_type": "code",
      "execution_count": null,
      "metadata": {
        "id": "gPnKzb5Zf4l5"
      },
      "outputs": [],
      "source": [
        "\"\"\"\n",
        "Imagine that you are a restaurant's cashier and are trying to keep records for analysing profits.\n",
        "\n",
        "Your restaurant sells 7 different items:\n",
        "    1. Burgers - $4.25\n",
        "    2. Nuggets - $2.50\n",
        "    3. French Fries - $2.00\n",
        "    4. Small Drink - $1.25\n",
        "    5. Medium Drink - $1.50\n",
        "    6. Large Drink - $1.75\n",
        "    7. Salad - $3.75\n",
        "\n",
        "Create a program to randomly generate the orders of each customer as a string of numbers\n",
        "(corresponding to the item) and calculate the cost of the order. For example, if the generated\n",
        "string is 5712335, the program should understand that the customer has ordered 1 burger, 1\n",
        "portion of nuggets, 2 portions of fries, 2 medium drinks and 1 salad. It should then compute the\n",
        "cost ($17.50). The final cost is calculated after considering discounts for combo offers and\n",
        "adding 18% GST.\n",
        "\n",
        "The combo offers are:\n",
        "A) 1 Burger + 1 Portion of Fries + 1 Drink -> 20% discount\n",
        "B) 1 Burger + 1 Portion of Nuggets + 1 Salad + 1 Drink -> 35% discount\n",
        "\n",
        "The final cost of the 5712335 order is $13.4225. The profit gained each day has to be recorded for\n",
        "30 days and plotted for analysis.\n",
        "\n",
        "Note:\n",
        "    - There will be at least 20 customers and not more than 50 customers per day. Each customer\n",
        "      orders at least 3 items and not more than 7 items.\n",
        "    - If there is a possibility of availing multiple combo offers in an order, the program\n",
        "      should select the offer with maximum discount.\n",
        "\"\"\""
      ]
    },
    {
      "cell_type": "code",
      "execution_count": null,
      "metadata": {
        "id": "on4woXR7f4l5"
      },
      "outputs": [],
      "source": [
        "def generate_order():\n",
        "    \"\"\"\n",
        "        Function 1: generate_order()\n",
        "        Return: A randomly generated order string\n",
        "    \"\"\"\n",
        "    # Menu items and their prices\n",
        "    menu = {\n",
        "        '1': 4.25,\n",
        "        '2': 2.50,\n",
        "        '3': 2.00,\n",
        "        '4': 1.25,\n",
        "        '5': 1.50,\n",
        "        '6': 1.75,\n",
        "        '7': 3.75\n",
        "        }\n",
        "    # Combo offers and their discounts\n",
        "    combo_offers = {\n",
        "                  'A': ['1', '3', '4', '5', '6'],\n",
        "                  'B': ['1', '2', '7', '4', '5']\n",
        "                    }\n",
        "    menu_items_list = list(menu.keys())\n",
        "    return ''.join(random.sample(menu_items_list, random.randint(3, 7)))"
      ]
    },
    {
      "cell_type": "code",
      "execution_count": null,
      "metadata": {
        "id": "XxZF_Qn0f4l5"
      },
      "outputs": [],
      "source": [
        "def compute_cost(order):\n",
        "    \"\"\"\n",
        "        Function 2: compute_cost(order)\n",
        "        Parameters: order (String)\n",
        "        Return: Final cost of order\n",
        "    \"\"\"\n",
        "    # Menu items and their prices\n",
        "    menu = {\n",
        "        '1': 4.25,\n",
        "        '2': 2.50,\n",
        "        '3': 2.00,\n",
        "        '4': 1.25,\n",
        "        '5': 1.50,\n",
        "        '6': 1.75,\n",
        "        '7': 3.75\n",
        "        }\n",
        "    # Combo offers and their discounts\n",
        "    combo_offers = {\n",
        "                  'A': ['1', '3', '4', '5', '6'],\n",
        "                  'B': ['1', '2', '7', '4', '5']\n",
        "                    }\n",
        "    cost = sum(menu[item] for item in order)\n",
        "    # Checking for combo offers\n",
        "    max_discount = 0.0\n",
        "    selected_offer = None\n",
        "    for offer, items in combo_offers.items():\n",
        "        common_items = set(items) & set(order)\n",
        "        if all(item in order for item in common_items):\n",
        "            discount = 0.20 if offer == 'A' else 0.35\n",
        "            if discount > max_discount:\n",
        "                max_discount = discount\n",
        "                selected_offer = offer\n",
        "    # Applying the discount of the selected combo offer\n",
        "    if selected_offer is not None:\n",
        "        cost *= (1 - max_discount)\n",
        "    # Adding GST (18%)\n",
        "    cost *= 1.18\n",
        "    return round(cost, 4)"
      ]
    },
    {
      "cell_type": "code",
      "execution_count": null,
      "metadata": {
        "colab": {
          "base_uri": "https://localhost:8080/"
        },
        "id": "uojeKUcef4l6",
        "outputId": "49e05115-5a58-4a65-d505-9f0be7503b56"
      },
      "outputs": [
        {
          "output_type": "stream",
          "name": "stderr",
          "text": [
            "INFO:pycodestyle:4:80: E501 line too long (93 > 79 characters)\n",
            "INFO:pycodestyle:11:80: E501 line too long (97 > 79 characters)\n"
          ]
        }
      ],
      "source": [
        "def simulate_restaurant():\n",
        "    \"\"\"\n",
        "        Function 3: simulate_restaurant()\n",
        "        Purpose: Simulate the restaurant's operation using the previously declared functions,\n",
        "                 based on the constraints mentioned in the question\n",
        "        Output: Plot of profit over 30 days\n",
        "    \"\"\"\n",
        "    daily_profits = []\n",
        "\n",
        "    for _ in range(30):\n",
        "        daily_profit = sum(compute_cost(generate_order()) for _ in range(random.randint(20, 50)))\n",
        "        daily_profits.append(daily_profit)\n",
        "\n",
        "    # Plotting\n",
        "    plt.plot(range(1, 31), daily_profits, marker='o')\n",
        "    plt.title('Daily Profits Over 30 Days')\n",
        "    plt.xlabel('Day')\n",
        "    plt.ylabel('Profit ($)')\n",
        "    plt.show()"
      ]
    },
    {
      "cell_type": "code",
      "source": [
        "simulate_restaurant()"
      ],
      "metadata": {
        "colab": {
          "base_uri": "https://localhost:8080/",
          "height": 472
        },
        "id": "tFH7wb7IwrmX",
        "outputId": "fdab72ab-0a5a-46a6-afe9-19b25ffe6a68"
      },
      "execution_count": null,
      "outputs": [
        {
          "output_type": "display_data",
          "data": {
            "text/plain": [
              "<Figure size 640x480 with 1 Axes>"
            ],
            "image/png": "[encoded data removed]"
          },
          "metadata": {}
        }
      ]
    },
    {
      "cell_type": "markdown",
      "metadata": {
        "id": "k9eCv7LUf4l6"
      },
      "source": [
        "You're done with the Basics of Python! Give yourself a pat on the back.\n",
        "\n",
        "Now, choose an area you want to work on - Machine Learning, Internet of Things or Microgrids - and get started with the assignments. You could also choose to do assignments from multiple areas, it's entirely up to you. Hope you have fun!"
      ]
    }
  ],
  "metadata": {
    "kernelspec": {
      "display_name": "Python 3",
      "language": "python",
      "name": "python3"
    },
    "language_info": {
      "codemirror_mode": {
        "name": "ipython",
        "version": 3
      },
      "file_extension": ".py",
      "mimetype": "text/x-python",
      "name": "python",
      "nbconvert_exporter": "python",
      "pygments_lexer": "ipython3",
      "version": "3.8.0"
    },
    "colab": {
      "provenance": [],
      "include_colab_link": true
    }
  },
  "nbformat": 4,
  "nbformat_minor": 0
}