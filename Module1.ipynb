{
  "cells": [
    {
      "cell_type": "markdown",
      "metadata": {
        "id": "view-in-github",
        "colab_type": "text"
      },
      "source": [
        "<a href=\"https://colab.research.google.com/github/deepsyyt/PythonBasics/blob/master/Module1.ipynb\" target=\"_parent\"><img src=\"https://colab.research.google.com/assets/colab-badge.svg\" alt=\"Open In Colab\"/></a>"
      ]
    },
    {
      "cell_type": "markdown",
      "metadata": {
        "id": "Qj8_yuGFrQZW"
      },
      "source": [
        "# Python Basics"
      ]
    },
    {
      "cell_type": "markdown",
      "metadata": {
        "id": "-PAQyUYhrQZZ"
      },
      "source": [
        "These assignments aim to get you acquainted with Python, which is an important requirement for all the research done at Solarillion Foundation. Apart from teaching you Python, these assignments also aim to make you a better programmer and cultivate better coding practices.\n",
        "\n",
        "Visit these links for more details: <br>\n",
        "PEP8 Practices: https://www.python.org/dev/peps/pep-0008/ <br>\n",
        "Check PEP8: http://pep8online.com <br>\n",
        "Python Reference: https://www.py4e.com/lessons <br>\n",
        "\n",
        "Do use Google efficiently, and refer to StackOverflow for clarifying any programming doubts. If you're still stuck, feel free to ask a TA to help you.\n",
        "\n",
        "Each task in the assignment comprises of at least two cells. There are function definitions wherein you will name the function(s), and write code to solve the problem at hand. You will call the function(s) in the last cell of each task, and check your output.\n",
        "\n",
        "We encourage you to play around and learn as much as possible, and be as creative as you can get. More than anything, have fun doing these assignments. Enjoy!"
      ]
    },
    {
      "cell_type": "markdown",
      "metadata": {
        "id": "WhK_YctFrQZa"
      },
      "source": [
        "# Important\n",
        "* **Only the imports and functions must be present when you upload this notebook to GitHub for verification.**\n",
        "* **Do not upload it until you want to get it verified. Do not change function names or add extra cells or code, or remove anything.**\n",
        "* **For your rough work and four showing your code to TAs, use a different notebook with the name Module2Playground.ipynb and copy only the final functions to this notebook for verification.**"
      ]
    },
    {
      "cell_type": "markdown",
      "metadata": {
        "id": "uUv0LoMorQZa"
      },
      "source": [
        "# Module 1\n",
        "Scope: Conditions, Loops, Exceptions, Data Structures, Lambda Functions"
      ]
    },
    {
      "cell_type": "markdown",
      "metadata": {
        "id": "EULY4_sTrQZa"
      },
      "source": [
        "## Imports - Always Execute First!\n",
        "Import any modules and turn on magic here:"
      ]
    },
    {
      "cell_type": "code",
      "source": [
        "!pip install pycodestyle_magic\n",
        "!pip install flake8"
      ],
      "metadata": {
        "colab": {
          "base_uri": "https://localhost:8080/"
        },
        "id": "HsqXkgkTrWc-",
        "outputId": "8370cbfd-173b-46d8-a359-409075ea3c0d"
      },
      "execution_count": null,
      "outputs": [
        {
          "output_type": "stream",
          "name": "stdout",
          "text": [
            "Collecting pycodestyle_magic\n",
            "  Downloading pycodestyle_magic-0.5-py2.py3-none-any.whl (9.5 kB)\n",
            "Installing collected packages: pycodestyle_magic\n",
            "Successfully installed pycodestyle_magic-0.5\n",
            "Requirement already satisfied: flake8 in /usr/local/lib/python3.10/dist-packages (7.0.0)\n",
            "Requirement already satisfied: mccabe<0.8.0,>=0.7.0 in /usr/local/lib/python3.10/dist-packages (from flake8) (0.7.0)\n",
            "Requirement already satisfied: pycodestyle<2.12.0,>=2.11.0 in /usr/local/lib/python3.10/dist-packages (from flake8) (2.11.1)\n",
            "Requirement already satisfied: pyflakes<3.3.0,>=3.2.0 in /usr/local/lib/python3.10/dist-packages (from flake8) (3.2.0)\n"
          ]
        }
      ]
    },
    {
      "cell_type": "code",
      "execution_count": null,
      "metadata": {
        "id": "p3JlG6KZrQZb"
      },
      "outputs": [],
      "source": [
        "from IPython import get_ipython\n",
        "ipy = get_ipython()\n",
        "if ipy is not None:\n",
        "    ipy.run_line_magic(\"load_ext\", \"pycodestyle_magic\")\n",
        "    ipy.run_line_magic(\"pycodestyle_on\", \"\")"
      ]
    },
    {
      "cell_type": "markdown",
      "metadata": {
        "id": "F4skAjsJrQZb"
      },
      "source": [
        "## Task 1"
      ]
    },
    {
      "cell_type": "markdown",
      "metadata": {
        "id": "QJTMRiVurQZc"
      },
      "source": [
        "Print the pattern given in the docstring."
      ]
    },
    {
      "cell_type": "markdown",
      "metadata": {
        "id": "Msu2mN7ZrQZc"
      },
      "source": [
        "**Question 1**"
      ]
    },
    {
      "cell_type": "code",
      "execution_count": null,
      "metadata": {
        "id": "GkT1RTHKrQZc"
      },
      "outputs": [],
      "source": [
        "def number_pattern(n):\n",
        "    \"\"\"\n",
        "        Prints the following pattern for `n` rows:\n",
        "\n",
        "        1\n",
        "        1 2\n",
        "        1 2 3\n",
        "        ...\n",
        "        1 2 3 ... n\n",
        "\n",
        "        Parameters\n",
        "        ----------\n",
        "        n : integer\n",
        "            Number of lines\n",
        "\n",
        "        Output\n",
        "        ------\n",
        "        Prints to stdout (default output)\n",
        "\n",
        "        Ideas\n",
        "        -----\n",
        "        Looping, Nested Loops\n",
        "    \"\"\"\n",
        "    for i in range(1, n + 1):\n",
        "        # Printing numbers from 1 to i on each line\n",
        "        for j in range(1, i + 1):\n",
        "            print(j, end=\" \")\n",
        "        # Moving to the next line after each row\n",
        "        print()"
      ]
    },
    {
      "cell_type": "code",
      "execution_count": null,
      "metadata": {
        "colab": {
          "base_uri": "https://localhost:8080/"
        },
        "id": "nXD1H3uUrQZd",
        "outputId": "309ac304-2ee7-4f29-81f6-eb14b4f42277"
      },
      "outputs": [
        {
          "output_type": "stream",
          "name": "stdout",
          "text": [
            "1 \n",
            "1 2 \n",
            "1 2 3 \n",
            "1 2 3 4 \n",
            "1 2 3 4 5 \n"
          ]
        }
      ],
      "source": [
        "# Call your function here\n",
        "number_pattern(5)"
      ]
    },
    {
      "cell_type": "markdown",
      "metadata": {
        "id": "WNokXhvzrQZd"
      },
      "source": [
        "**Question 2**"
      ]
    },
    {
      "cell_type": "code",
      "execution_count": null,
      "metadata": {
        "id": "RqOj-D-arQZd"
      },
      "outputs": [],
      "source": [
        "def zero_star_pattern(n):\n",
        "    \"\"\"\n",
        "        Prints the following `n` times:\n",
        "\n",
        "        *\n",
        "        00\n",
        "        ***\n",
        "        0000\n",
        "        *****\n",
        "        0000\n",
        "        ***\n",
        "        00\n",
        "        *\n",
        "\n",
        "        Example\n",
        "        -------\n",
        "        n = 2\n",
        "        *\n",
        "        00\n",
        "        ***\n",
        "        0000\n",
        "        *****\n",
        "        0000\n",
        "        ***\n",
        "        00\n",
        "        *\n",
        "        00\n",
        "        ***\n",
        "        0000\n",
        "        *****\n",
        "        0000\n",
        "        ***\n",
        "        00\n",
        "        *\n",
        "\n",
        "        Parameters\n",
        "        ----------\n",
        "        n : integer\n",
        "            Number of times to print pattern\n",
        "\n",
        "        Output\n",
        "        ------\n",
        "        Prints to stdout (default output)\n",
        "\n",
        "        Ideas\n",
        "        -----\n",
        "        Looping, Conditions\n",
        "    \"\"\"\n",
        "    for _ in range(n):\n",
        "        # Looping for the alternating pattern\n",
        "        for i in range(1, 6, 2):\n",
        "            print('*' * i)\n",
        "            if i < 5:\n",
        "                print('0' * (i + 1))"
      ]
    },
    {
      "cell_type": "code",
      "execution_count": null,
      "metadata": {
        "scrolled": true,
        "colab": {
          "base_uri": "https://localhost:8080/"
        },
        "id": "mbq6i2UBrQZd",
        "outputId": "61ff5aa4-26b9-4ae5-c64c-00e9ecc90706"
      },
      "outputs": [
        {
          "output_type": "stream",
          "name": "stdout",
          "text": [
            "*\n",
            "00\n",
            "***\n",
            "0000\n",
            "*****\n",
            "*\n",
            "00\n",
            "***\n",
            "0000\n",
            "*****\n"
          ]
        }
      ],
      "source": [
        "# Call your function here\n",
        "zero_star_pattern(2)"
      ]
    },
    {
      "cell_type": "markdown",
      "metadata": {
        "id": "ymPLnW6FrQZd"
      },
      "source": [
        "**Question 3**"
      ]
    },
    {
      "cell_type": "code",
      "execution_count": null,
      "metadata": {
        "colab": {
          "base_uri": "https://localhost:8080/"
        },
        "id": "7AD0uLbOrQZe",
        "outputId": "a4063708-e0a5-493b-c837-186345df0771"
      },
      "outputs": [
        {
          "output_type": "stream",
          "name": "stderr",
          "text": [
            "INFO:pycodestyle:34:80: E501 line too long (87 > 79 characters)\n"
          ]
        }
      ],
      "source": [
        "import math\n",
        "\n",
        "\n",
        "def trigonometric_pattern(x, n):\n",
        "    \"\"\"\n",
        "        Consider `k` where k = i*sin^i(x) + i*cos^i(x), 1 <= i <= n.\n",
        "        Print `int(k)` $\n",
        "        symbols for all `i` from 1 to `n`. If k < 1, print 1 $ symbol.\n",
        "        Example\n",
        "        -------\n",
        "        x = 90, n = 5\n",
        "        $\n",
        "        $$\n",
        "        $$$\n",
        "        $$$$\n",
        "        $$$$$\n",
        "        Parameters\n",
        "        ----------\n",
        "        x : float\n",
        "            Angle in degrees\n",
        "        n : integer\n",
        "            Number of times\n",
        "\n",
        "        Output\n",
        "        ------\n",
        "        Prints to stdout (default output)\n",
        "\n",
        "        Ideas\n",
        "        -----\n",
        "        Looping, math.sin, math.cos, math.pow\n",
        "        \"\"\"\n",
        "    for i in range(1, n + 1):\n",
        "        angle_in_radians = math.radians(x)\n",
        "        value = i * (math.sin(angle_in_radians) ** i + math.cos(angle_in_radians) ** i)\n",
        "        # Printing `int(k)` symbols for each i\n",
        "        num_symbols = max(int(value), 1)\n",
        "        print('$' * num_symbols)"
      ]
    },
    {
      "cell_type": "code",
      "execution_count": null,
      "metadata": {
        "id": "hO_1Tx1jrQZe",
        "colab": {
          "base_uri": "https://localhost:8080/"
        },
        "outputId": "e3ef3cf2-369f-4e4e-dee7-d7a1ab4114f5"
      },
      "outputs": [
        {
          "output_type": "stream",
          "name": "stdout",
          "text": [
            "$\n",
            "$$\n",
            "$$$\n",
            "$$$$\n",
            "$$$$$\n"
          ]
        }
      ],
      "source": [
        "# Call your function here\n",
        "trigonometric_pattern(90, 5)"
      ]
    },
    {
      "cell_type": "markdown",
      "metadata": {
        "id": "fZGPYoLErQZe"
      },
      "source": [
        "## Task 2"
      ]
    },
    {
      "cell_type": "markdown",
      "metadata": {
        "id": "UvMQr7unrQZe"
      },
      "source": [
        "Learn about data structures, exception handling and lambda functions."
      ]
    },
    {
      "cell_type": "markdown",
      "metadata": {
        "id": "Td33eoUNrQZe"
      },
      "source": [
        "**Question 1**"
      ]
    },
    {
      "cell_type": "code",
      "execution_count": null,
      "metadata": {
        "id": "r-xEEXmZrQZe"
      },
      "outputs": [],
      "source": [
        "dictionary = {'ant': 2, 'dog': 12, 'duck': 20, 'hen': 11, 'other': 99}"
      ]
    },
    {
      "cell_type": "code",
      "execution_count": null,
      "metadata": {
        "id": "SD1_ivpNrQZf"
      },
      "outputs": [],
      "source": [
        "keys = ['ant', 'cat', 'duck', 'hen', 'lion', 'zebra']"
      ]
    },
    {
      "cell_type": "code",
      "execution_count": null,
      "metadata": {
        "id": "yq8HCuBdrQZf",
        "colab": {
          "base_uri": "https://localhost:8080/"
        },
        "outputId": "f94c8bb9-95bc-4aa2-bfbe-5bdec9879137"
      },
      "outputs": [
        {
          "output_type": "stream",
          "name": "stderr",
          "text": [
            "INFO:pycodestyle:3:80: E501 line too long (89 > 79 characters)\n",
            "INFO:pycodestyle:4:80: E501 line too long (86 > 79 characters)\n"
          ]
        }
      ],
      "source": [
        "def dictionary_lookup(dictionary, keys):\n",
        "    \"\"\"\n",
        "        For all elements in `keys`, print the value associated with them in `dictionary`.\n",
        "        Use exception handling to take care of a non-existent key, and print the value\n",
        "        associated with `other` instead. Use exception handling.\n",
        "\n",
        "        Parameters\n",
        "        ----------\n",
        "        dictionary : dict\n",
        "            Dictionary containing key-value pairs\n",
        "\n",
        "        keys : list\n",
        "            List of keys to lookup values for\n",
        "\n",
        "        Output\n",
        "        ------\n",
        "        Prints to stdout (default output)\n",
        "\n",
        "        Ideas\n",
        "        -----\n",
        "        try, except\n",
        "    \"\"\"\n",
        "    for key in keys:\n",
        "        try:\n",
        "            value = dictionary[key]\n",
        "        except KeyError:\n",
        "            value = dictionary.get('other')\n",
        "        print(f\"key:{key},value:{value}\")"
      ]
    },
    {
      "cell_type": "code",
      "execution_count": null,
      "metadata": {
        "id": "msW3QfpCrQZf",
        "colab": {
          "base_uri": "https://localhost:8080/"
        },
        "outputId": "7cc11e79-16ba-4d9a-8c72-4701ddff00d5"
      },
      "outputs": [
        {
          "output_type": "stream",
          "name": "stdout",
          "text": [
            "key:ant,value:2\n",
            "key:cat,value:99\n",
            "key:duck,value:20\n",
            "key:hen,value:11\n",
            "key:lion,value:99\n",
            "key:zebra,value:99\n"
          ]
        }
      ],
      "source": [
        "# Call your function here\n",
        "dictionary_lookup(dictionary, keys)"
      ]
    },
    {
      "cell_type": "markdown",
      "metadata": {
        "id": "3q8HI__YrQZf"
      },
      "source": [
        "**Question 2**"
      ]
    },
    {
      "cell_type": "code",
      "execution_count": null,
      "metadata": {
        "id": "yaPYqgzfrQZf"
      },
      "outputs": [],
      "source": [
        "data = [0.00, 0.12, 0.24, 0.36, 0.48, 0.52, 0.65, 0.50, 0.11, 0.09]"
      ]
    },
    {
      "cell_type": "code",
      "execution_count": null,
      "metadata": {
        "id": "W1ADQrsarQZf",
        "colab": {
          "base_uri": "https://localhost:8080/"
        },
        "outputId": "e86dea9d-bbd8-42ff-f788-3ca2dd09ed14"
      },
      "outputs": [
        {
          "output_type": "stream",
          "name": "stderr",
          "text": [
            "INFO:pycodestyle:3:80: E501 line too long (86 > 79 characters)\n",
            "INFO:pycodestyle:23:5: E731 do not assign a lambda expression, use a def\n"
          ]
        }
      ],
      "source": [
        "def round_off(data):\n",
        "    \"\"\"\n",
        "        Round off values in `data` below the mean to 0, and those above the mean to 1,\n",
        "        and return the list of rounded values. Do not use looping statements.\n",
        "\n",
        "        Parameters\n",
        "        ----------\n",
        "        data : list\n",
        "            List of values to round off\n",
        "\n",
        "        Return\n",
        "        ------\n",
        "        List of rounded values\n",
        "        Note: You must return the list with rounded values, not just print it.\n",
        "\n",
        "        Ideas\n",
        "        -----\n",
        "        lambda, map\n",
        "    \"\"\"\n",
        "    # Calculating the mean of the data\n",
        "    mean_value = sum(data) / len(data)\n",
        "    # Defining a lambda function to round off values\n",
        "    round_function = lambda x: 0 if x < mean_value else 1\n",
        "    # Using map to apply the lambda function to each element in the list\n",
        "    rounded_values = list(map(round_function, data))\n",
        "    # Returning the list of rounded values\n",
        "    return rounded_values"
      ]
    },
    {
      "cell_type": "code",
      "execution_count": null,
      "metadata": {
        "id": "xPuZuprHrQZg",
        "colab": {
          "base_uri": "https://localhost:8080/"
        },
        "outputId": "b4f93856-f7a7-43bb-a7db-0484c8264b7d"
      },
      "outputs": [
        {
          "output_type": "execute_result",
          "data": {
            "text/plain": [
              "[0, 0, 0, 1, 1, 1, 1, 1, 0, 0]"
            ]
          },
          "metadata": {},
          "execution_count": 85
        }
      ],
      "source": [
        "# Call your function here - print the returned list to check your function\n",
        "round_off(data)"
      ]
    },
    {
      "cell_type": "markdown",
      "metadata": {
        "id": "b4UfS4xhrQZg"
      },
      "source": [
        "**Question 3**"
      ]
    },
    {
      "cell_type": "code",
      "execution_count": null,
      "metadata": {
        "id": "HmD-AoEVrQZg",
        "colab": {
          "base_uri": "https://localhost:8080/"
        },
        "outputId": "d4d1f457-6cbd-4cb5-dbfd-d172b24c3a2f"
      },
      "outputs": [
        {
          "output_type": "stream",
          "name": "stderr",
          "text": [
            "INFO:pycodestyle:3:80: E501 line too long (85 > 79 characters)\n"
          ]
        }
      ],
      "source": [
        "def perfect_squares(n):\n",
        "    \"\"\"\n",
        "        Return a list of all perfect squares less than `n`, using list comprehension.\n",
        "\n",
        "        Parameters\n",
        "        ----------\n",
        "        n : integer\n",
        "            Limit value\n",
        "\n",
        "        Return\n",
        "        ------\n",
        "        List of all perfect squares less than `n`\n",
        "        Note: You must return the list with perfect squares, not just print it.\n",
        "\n",
        "        Ideas\n",
        "        -----\n",
        "        Looping, If, List Comprehension\n",
        "    \"\"\"\n",
        "    return [x**2 for x in range(0, int(math.sqrt(n)) + 1)]"
      ]
    },
    {
      "cell_type": "code",
      "execution_count": null,
      "metadata": {
        "id": "cEPnAvucrQZg",
        "colab": {
          "base_uri": "https://localhost:8080/"
        },
        "outputId": "8dbedc4e-2a6c-424f-9bbf-8483ec2e838f"
      },
      "outputs": [
        {
          "output_type": "execute_result",
          "data": {
            "text/plain": [
              "[0, 1, 4]"
            ]
          },
          "metadata": {},
          "execution_count": 140
        }
      ],
      "source": [
        "# Call your function name - print the returned list to check your function\n",
        "perfect_squares(5)"
      ]
    },
    {
      "cell_type": "markdown",
      "metadata": {
        "id": "KJIQNShGrQZg"
      },
      "source": [
        "Once you're done, move on to Module 2. Nice work!"
      ]
    }
  ],
  "metadata": {
    "kernelspec": {
      "display_name": "Python 3",
      "language": "python",
      "name": "python3"
    },
    "language_info": {
      "codemirror_mode": {
        "name": "ipython",
        "version": 3
      },
      "file_extension": ".py",
      "mimetype": "text/x-python",
      "name": "python",
      "nbconvert_exporter": "python",
      "pygments_lexer": "ipython3",
      "version": "3.8.0"
    },
    "colab": {
      "provenance": [],
      "include_colab_link": true
    }
  },
  "nbformat": 4,
  "nbformat_minor": 0
}